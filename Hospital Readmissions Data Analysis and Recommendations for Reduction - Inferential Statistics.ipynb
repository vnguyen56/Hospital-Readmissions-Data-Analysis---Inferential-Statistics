{
 "cells": [
  {
   "cell_type": "markdown",
   "metadata": {},
   "source": [
    "# Hospital Readmissions Data Analysis and Recommendations for Reduction\n",
    "\n",
    "### Background\n",
    "In October 2012, the US government's Center for Medicare and Medicaid Services (CMS) began reducing Medicare payments for Inpatient Prospective Payment System hospitals with excess readmissions. Excess readmissions are measured by a ratio, by dividing a hospital’s number of “predicted” 30-day readmissions for heart attack, heart failure, and pneumonia by the number that would be “expected,” based on an average hospital with similar patients. A ratio greater than 1 indicates excess readmissions.\n",
    "\n",
    "### Exercise Directions\n",
    "\n",
    "In this exercise, you will:\n",
    "+ critique a preliminary analysis of readmissions data and recommendations (provided below) for reducing the readmissions rate\n",
    "+ construct a statistically sound analysis and make recommendations of your own \n",
    "\n",
    "More instructions provided below. Include your work **in this notebook and submit to your Github account**. \n",
    "\n",
    "### Resources\n",
    "+ Data source: https://data.medicare.gov/Hospital-Compare/Hospital-Readmission-Reduction/9n3s-kdb3\n",
    "+ More information: http://www.cms.gov/Medicare/medicare-fee-for-service-payment/acuteinpatientPPS/readmissions-reduction-program.html\n",
    "+ Markdown syntax: http://nestacms.com/docs/creating-content/markdown-cheat-sheet\n",
    "****"
   ]
  },
  {
   "cell_type": "code",
   "execution_count": 1,
   "metadata": {},
   "outputs": [],
   "source": [
    "%matplotlib inline\n",
    "\n",
    "import pandas as pd\n",
    "import numpy as np\n",
    "import matplotlib.pyplot as plt\n",
    "import bokeh.plotting as bkp\n",
    "from mpl_toolkits.axes_grid1 import make_axes_locatable\n",
    "import seaborn as sns\n",
    "import scipy.stats as stats"
   ]
  },
  {
   "cell_type": "code",
   "execution_count": 2,
   "metadata": {},
   "outputs": [],
   "source": [
    "# read in readmissions data provided\n",
    "hospital_read_df = pd.read_csv('data/cms_hospital_readmissions.csv')"
   ]
  },
  {
   "cell_type": "code",
   "execution_count": 3,
   "metadata": {},
   "outputs": [
    {
     "data": {
      "text/html": [
       "<div>\n",
       "<style scoped>\n",
       "    .dataframe tbody tr th:only-of-type {\n",
       "        vertical-align: middle;\n",
       "    }\n",
       "\n",
       "    .dataframe tbody tr th {\n",
       "        vertical-align: top;\n",
       "    }\n",
       "\n",
       "    .dataframe thead th {\n",
       "        text-align: right;\n",
       "    }\n",
       "</style>\n",
       "<table border=\"1\" class=\"dataframe\">\n",
       "  <thead>\n",
       "    <tr style=\"text-align: right;\">\n",
       "      <th></th>\n",
       "      <th>Hospital Name</th>\n",
       "      <th>Provider Number</th>\n",
       "      <th>State</th>\n",
       "      <th>Measure Name</th>\n",
       "      <th>Number of Discharges</th>\n",
       "      <th>Footnote</th>\n",
       "      <th>Excess Readmission Ratio</th>\n",
       "      <th>Predicted Readmission Rate</th>\n",
       "      <th>Expected Readmission Rate</th>\n",
       "      <th>Number of Readmissions</th>\n",
       "      <th>Start Date</th>\n",
       "      <th>End Date</th>\n",
       "    </tr>\n",
       "  </thead>\n",
       "  <tbody>\n",
       "    <tr>\n",
       "      <th>16021</th>\n",
       "      <td>MCBRIDE CLINIC ORTHOPEDIC HOSPITAL,  L L C</td>\n",
       "      <td>370222</td>\n",
       "      <td>OK</td>\n",
       "      <td>READM-30-AMI-HRRP</td>\n",
       "      <td>Not Available</td>\n",
       "      <td>5.0</td>\n",
       "      <td>NaN</td>\n",
       "      <td>NaN</td>\n",
       "      <td>NaN</td>\n",
       "      <td>NaN</td>\n",
       "      <td>07/01/2010</td>\n",
       "      <td>06/30/2013</td>\n",
       "    </tr>\n",
       "    <tr>\n",
       "      <th>9971</th>\n",
       "      <td>ST JOSEPHS MERCY HEALTH CENTER INC</td>\n",
       "      <td>40026</td>\n",
       "      <td>AR</td>\n",
       "      <td>READM-30-HF-HRRP</td>\n",
       "      <td>689</td>\n",
       "      <td>NaN</td>\n",
       "      <td>0.9549</td>\n",
       "      <td>20.1</td>\n",
       "      <td>21.1</td>\n",
       "      <td>136.0</td>\n",
       "      <td>07/01/2010</td>\n",
       "      <td>06/30/2013</td>\n",
       "    </tr>\n",
       "    <tr>\n",
       "      <th>12979</th>\n",
       "      <td>CLIFTON SPRINGS HOSPITAL AND CLINIC</td>\n",
       "      <td>330265</td>\n",
       "      <td>NY</td>\n",
       "      <td>READM-30-HIP-KNEE-HRRP</td>\n",
       "      <td>Not Available</td>\n",
       "      <td>NaN</td>\n",
       "      <td>0.8702</td>\n",
       "      <td>4.5</td>\n",
       "      <td>5.2</td>\n",
       "      <td>NaN</td>\n",
       "      <td>07/01/2010</td>\n",
       "      <td>06/30/2013</td>\n",
       "    </tr>\n",
       "    <tr>\n",
       "      <th>14362</th>\n",
       "      <td>ADCARE HOSPITAL OF WORCESTER INC</td>\n",
       "      <td>220062</td>\n",
       "      <td>MA</td>\n",
       "      <td>READM-30-COPD-HRRP</td>\n",
       "      <td>Not Available</td>\n",
       "      <td>5.0</td>\n",
       "      <td>NaN</td>\n",
       "      <td>NaN</td>\n",
       "      <td>NaN</td>\n",
       "      <td>NaN</td>\n",
       "      <td>07/01/2010</td>\n",
       "      <td>06/30/2013</td>\n",
       "    </tr>\n",
       "    <tr>\n",
       "      <th>8447</th>\n",
       "      <td>SUTTER DAVIS HOSPITAL</td>\n",
       "      <td>50537</td>\n",
       "      <td>CA</td>\n",
       "      <td>READM-30-PN-HRRP</td>\n",
       "      <td>79</td>\n",
       "      <td>NaN</td>\n",
       "      <td>0.9766</td>\n",
       "      <td>17.0</td>\n",
       "      <td>17.4</td>\n",
       "      <td>12.0</td>\n",
       "      <td>07/01/2010</td>\n",
       "      <td>06/30/2013</td>\n",
       "    </tr>\n",
       "    <tr>\n",
       "      <th>15361</th>\n",
       "      <td>KAISER FOUNDATION HOSPITAL - SOUTH SAN FRANCISCO</td>\n",
       "      <td>50070</td>\n",
       "      <td>CA</td>\n",
       "      <td>READM-30-COPD-HRRP</td>\n",
       "      <td>Not Available</td>\n",
       "      <td>1.0</td>\n",
       "      <td>NaN</td>\n",
       "      <td>NaN</td>\n",
       "      <td>NaN</td>\n",
       "      <td>NaN</td>\n",
       "      <td>07/01/2010</td>\n",
       "      <td>06/30/2013</td>\n",
       "    </tr>\n",
       "    <tr>\n",
       "      <th>10009</th>\n",
       "      <td>FLORIDA HOSPITAL WESLEY CHAPEL</td>\n",
       "      <td>100319</td>\n",
       "      <td>FL</td>\n",
       "      <td>READM-30-PN-HRRP</td>\n",
       "      <td>Not Available</td>\n",
       "      <td>NaN</td>\n",
       "      <td>0.9543</td>\n",
       "      <td>15.1</td>\n",
       "      <td>15.9</td>\n",
       "      <td>NaN</td>\n",
       "      <td>07/01/2010</td>\n",
       "      <td>06/30/2013</td>\n",
       "    </tr>\n",
       "    <tr>\n",
       "      <th>12005</th>\n",
       "      <td>BUTLER MEMORIAL HOSPITAL</td>\n",
       "      <td>390168</td>\n",
       "      <td>PA</td>\n",
       "      <td>READM-30-HIP-KNEE-HRRP</td>\n",
       "      <td>Not Available</td>\n",
       "      <td>NaN</td>\n",
       "      <td>0.9127</td>\n",
       "      <td>4.7</td>\n",
       "      <td>5.2</td>\n",
       "      <td>NaN</td>\n",
       "      <td>07/01/2010</td>\n",
       "      <td>06/30/2013</td>\n",
       "    </tr>\n",
       "    <tr>\n",
       "      <th>168</th>\n",
       "      <td>FOUNTAIN VALLEY REGIONAL HOSPITAL &amp; MEDICAL CE...</td>\n",
       "      <td>50570</td>\n",
       "      <td>CA</td>\n",
       "      <td>READM-30-HIP-KNEE-HRRP</td>\n",
       "      <td>186</td>\n",
       "      <td>NaN</td>\n",
       "      <td>1.2471</td>\n",
       "      <td>7.0</td>\n",
       "      <td>5.6</td>\n",
       "      <td>17.0</td>\n",
       "      <td>07/01/2010</td>\n",
       "      <td>06/30/2013</td>\n",
       "    </tr>\n",
       "    <tr>\n",
       "      <th>700</th>\n",
       "      <td>WHITE PLAINS HOSPITAL CENTER</td>\n",
       "      <td>330304</td>\n",
       "      <td>NY</td>\n",
       "      <td>READM-30-PN-HRRP</td>\n",
       "      <td>786</td>\n",
       "      <td>NaN</td>\n",
       "      <td>1.1492</td>\n",
       "      <td>18.4</td>\n",
       "      <td>16.0</td>\n",
       "      <td>153.0</td>\n",
       "      <td>07/01/2010</td>\n",
       "      <td>06/30/2013</td>\n",
       "    </tr>\n",
       "  </tbody>\n",
       "</table>\n",
       "</div>"
      ],
      "text/plain": [
       "                                           Hospital Name  Provider Number  \\\n",
       "16021         MCBRIDE CLINIC ORTHOPEDIC HOSPITAL,  L L C           370222   \n",
       "9971                  ST JOSEPHS MERCY HEALTH CENTER INC            40026   \n",
       "12979                CLIFTON SPRINGS HOSPITAL AND CLINIC           330265   \n",
       "14362                   ADCARE HOSPITAL OF WORCESTER INC           220062   \n",
       "8447                               SUTTER DAVIS HOSPITAL            50537   \n",
       "15361   KAISER FOUNDATION HOSPITAL - SOUTH SAN FRANCISCO            50070   \n",
       "10009                     FLORIDA HOSPITAL WESLEY CHAPEL           100319   \n",
       "12005                           BUTLER MEMORIAL HOSPITAL           390168   \n",
       "168    FOUNTAIN VALLEY REGIONAL HOSPITAL & MEDICAL CE...            50570   \n",
       "700                         WHITE PLAINS HOSPITAL CENTER           330304   \n",
       "\n",
       "      State            Measure Name Number of Discharges  Footnote  \\\n",
       "16021    OK       READM-30-AMI-HRRP        Not Available       5.0   \n",
       "9971     AR        READM-30-HF-HRRP                  689       NaN   \n",
       "12979    NY  READM-30-HIP-KNEE-HRRP        Not Available       NaN   \n",
       "14362    MA      READM-30-COPD-HRRP        Not Available       5.0   \n",
       "8447     CA        READM-30-PN-HRRP                   79       NaN   \n",
       "15361    CA      READM-30-COPD-HRRP        Not Available       1.0   \n",
       "10009    FL        READM-30-PN-HRRP        Not Available       NaN   \n",
       "12005    PA  READM-30-HIP-KNEE-HRRP        Not Available       NaN   \n",
       "168      CA  READM-30-HIP-KNEE-HRRP                  186       NaN   \n",
       "700      NY        READM-30-PN-HRRP                  786       NaN   \n",
       "\n",
       "       Excess Readmission Ratio  Predicted Readmission Rate  \\\n",
       "16021                       NaN                         NaN   \n",
       "9971                     0.9549                        20.1   \n",
       "12979                    0.8702                         4.5   \n",
       "14362                       NaN                         NaN   \n",
       "8447                     0.9766                        17.0   \n",
       "15361                       NaN                         NaN   \n",
       "10009                    0.9543                        15.1   \n",
       "12005                    0.9127                         4.7   \n",
       "168                      1.2471                         7.0   \n",
       "700                      1.1492                        18.4   \n",
       "\n",
       "       Expected Readmission Rate  Number of Readmissions  Start Date  \\\n",
       "16021                        NaN                     NaN  07/01/2010   \n",
       "9971                        21.1                   136.0  07/01/2010   \n",
       "12979                        5.2                     NaN  07/01/2010   \n",
       "14362                        NaN                     NaN  07/01/2010   \n",
       "8447                        17.4                    12.0  07/01/2010   \n",
       "15361                        NaN                     NaN  07/01/2010   \n",
       "10009                       15.9                     NaN  07/01/2010   \n",
       "12005                        5.2                     NaN  07/01/2010   \n",
       "168                          5.6                    17.0  07/01/2010   \n",
       "700                         16.0                   153.0  07/01/2010   \n",
       "\n",
       "         End Date  \n",
       "16021  06/30/2013  \n",
       "9971   06/30/2013  \n",
       "12979  06/30/2013  \n",
       "14362  06/30/2013  \n",
       "8447   06/30/2013  \n",
       "15361  06/30/2013  \n",
       "10009  06/30/2013  \n",
       "12005  06/30/2013  \n",
       "168    06/30/2013  \n",
       "700    06/30/2013  "
      ]
     },
     "execution_count": 3,
     "metadata": {},
     "output_type": "execute_result"
    }
   ],
   "source": [
    "hospital_read_df.sample(10)"
   ]
  },
  {
   "cell_type": "code",
   "execution_count": 4,
   "metadata": {},
   "outputs": [
    {
     "data": {
      "text/plain": [
       "(16860, 12)"
      ]
     },
     "execution_count": 4,
     "metadata": {},
     "output_type": "execute_result"
    }
   ],
   "source": [
    "hospital_read_df.shape"
   ]
  },
  {
   "cell_type": "markdown",
   "metadata": {},
   "source": [
    "****\n",
    "## Preliminary Analysis"
   ]
  },
  {
   "cell_type": "code",
   "execution_count": 5,
   "metadata": {},
   "outputs": [
    {
     "name": "stderr",
     "output_type": "stream",
     "text": [
      "/Users/vinhnguyen/anaconda3/lib/python3.6/site-packages/pandas/core/indexing.py:543: SettingWithCopyWarning: \n",
      "A value is trying to be set on a copy of a slice from a DataFrame.\n",
      "Try using .loc[row_indexer,col_indexer] = value instead\n",
      "\n",
      "See the caveats in the documentation: http://pandas.pydata.org/pandas-docs/stable/indexing.html#indexing-view-versus-copy\n",
      "  self.obj[item] = s\n"
     ]
    }
   ],
   "source": [
    "# deal with missing and inconvenient portions of data \n",
    "clean_hospital_read_df = hospital_read_df[hospital_read_df['Number of Discharges'] != 'Not Available']\n",
    "clean_hospital_read_df.loc[:, 'Number of Discharges'] = clean_hospital_read_df['Number of Discharges'].astype(int)\n",
    "clean_hospital_read_df = clean_hospital_read_df.sort_values('Number of Discharges')"
   ]
  },
  {
   "cell_type": "code",
   "execution_count": 6,
   "metadata": {
    "scrolled": false
   },
   "outputs": [
    {
     "data": {
      "image/png": "[encoded data removed]",
      "text/plain": [
       "<Figure size 576x360 with 1 Axes>"
      ]
     },
     "metadata": {},
     "output_type": "display_data"
    }
   ],
   "source": [
    "# generate a scatterplot for number of discharges vs. excess rate of readmissions\n",
    "# lists work better with matplotlib scatterplot function\n",
    "x = [a for a in clean_hospital_read_df['Number of Discharges'][81:-3]]\n",
    "y = list(clean_hospital_read_df['Excess Readmission Ratio'][81:-3])\n",
    "\n",
    "fig, ax = plt.subplots(figsize=(8,5))\n",
    "ax.scatter(x, y,alpha=0.2)\n",
    "\n",
    "ax.fill_between([0,350], 1.15, 2, facecolor='red', alpha = .15, interpolate=True)\n",
    "ax.fill_between([800,2500], .5, .95, facecolor='green', alpha = .15, interpolate=True)\n",
    "\n",
    "ax.set_xlim([0, max(x)])\n",
    "ax.set_xlabel('Number of discharges', fontsize=12)\n",
    "ax.set_ylabel('Excess rate of readmissions', fontsize=12)\n",
    "ax.set_title('Scatterplot of number of discharges vs. excess rate of readmissions', fontsize=14)\n",
    "ax.axvline(100,linestyle='--',color='r')\n",
    "ax.axvline(1000,linestyle='--',color='g')\n",
    "\n",
    "ax.grid(True)\n",
    "fig.tight_layout()"
   ]
  },
  {
   "cell_type": "markdown",
   "metadata": {},
   "source": [
    "****\n",
    "\n",
    "## Preliminary Report\n",
    "\n",
    "Read the following results/report. While you are reading it, think about if the conclusions are correct, incorrect, misleading or unfounded. Think about what you would change or what additional analyses you would perform.\n",
    "\n",
    "**A. Initial observations based on the plot above**\n",
    "+ Overall, rate of readmissions is trending down with increasing number of discharges\n",
    "+ With lower number of discharges, there is a greater incidence of excess rate of readmissions (area shaded red)\n",
    "+ With higher number of discharges, there is a greater incidence of lower rates of readmissions (area shaded green) \n",
    "\n",
    "**B. Statistics**\n",
    "+ In hospitals/facilities with number of discharges < 100, mean excess readmission rate is 1.023 and 63% have excess readmission rate greater than 1 \n",
    "+ In hospitals/facilities with number of discharges > 1000, mean excess readmission rate is 0.978 and 44% have excess readmission rate greater than 1 \n",
    "\n",
    "**C. Conclusions**\n",
    "+ There is a significant correlation between hospital capacity (number of discharges) and readmission rates. \n",
    "+ Smaller hospitals/facilities may be lacking necessary resources to ensure quality care and prevent complications that lead to readmissions.\n",
    "\n",
    "**D. Regulatory policy recommendations**\n",
    "+ Hospitals/facilties with small capacity (< 300) should be required to demonstrate upgraded resource allocation for quality care to continue operation.\n",
    "+ Directives and incentives should be provided for consolidation of hospitals and facilities to have a smaller number of them with higher capacity and number of discharges."
   ]
  },
  {
   "cell_type": "markdown",
   "metadata": {},
   "source": [
    "****\n",
    "### Exercise\n",
    "\n",
    "Include your work on the following **in this notebook and submit to your Github account**. \n",
    "\n",
    "A. Do you agree with the above analysis and recommendations? Why or why not?\n",
    "   \n",
    "B. Provide support for your arguments and your own recommendations with a statistically sound analysis:\n",
    "\n",
    "   1. Setup an appropriate hypothesis test.\n",
    "   2. Compute and report the observed significance value (or p-value).\n",
    "   3. Report statistical significance for $\\alpha$ = .01. \n",
    "   4. Discuss statistical significance and practical significance. Do they differ here? How does this change your recommendation to the client?\n",
    "   5. Look at the scatterplot above. \n",
    "      - What are the advantages and disadvantages of using this plot to convey information?\n",
    "      - Construct another plot that conveys the same information in a more direct manner.\n",
    "\n",
    "\n",
    "\n",
    "You can compose in notebook cells using Markdown: \n",
    "+ In the control panel at the top, choose Cell > Cell Type > Markdown\n",
    "+ Markdown syntax: http://nestacms.com/docs/creating-content/markdown-cheat-sheet\n",
    "****"
   ]
  },
  {
   "cell_type": "markdown",
   "metadata": {
    "collapsed": true
   },
   "source": [
    "# Our Analysis\n",
    "\n",
    "The preliminary report provides a very weak analysis, with little to no actual statistical analysis. Although no hypothesis testing is done here, the analysis assumes there is a significant difference between the mean excess admission rate of hospitals with number of discharges < 100 and hospitals with number of discharges > 1000. Looking at the scatter plot, it is very unclear if there is a significant difference and where the analysis even got their number from. It seems as if they took these numbers just by briefly looking at the data and estimating what they would be. This is a result of first not finding the relationship between excess readmission rate and number of discharges first. Therefore, we cannot agree with the preliminary assessment above. We need to do a much more thorough analysis.\n",
    "\n"
   ]
  },
  {
   "cell_type": "code",
   "execution_count": 7,
   "metadata": {
    "scrolled": true
   },
   "outputs": [
    {
     "data": {
      "text/html": [
       "<div>\n",
       "<style scoped>\n",
       "    .dataframe tbody tr th:only-of-type {\n",
       "        vertical-align: middle;\n",
       "    }\n",
       "\n",
       "    .dataframe tbody tr th {\n",
       "        vertical-align: top;\n",
       "    }\n",
       "\n",
       "    .dataframe thead th {\n",
       "        text-align: right;\n",
       "    }\n",
       "</style>\n",
       "<table border=\"1\" class=\"dataframe\">\n",
       "  <thead>\n",
       "    <tr style=\"text-align: right;\">\n",
       "      <th></th>\n",
       "      <th>Hospital Name</th>\n",
       "      <th>Provider Number</th>\n",
       "      <th>State</th>\n",
       "      <th>Measure Name</th>\n",
       "      <th>Number of Discharges</th>\n",
       "      <th>Footnote</th>\n",
       "      <th>Excess Readmission Ratio</th>\n",
       "      <th>Predicted Readmission Rate</th>\n",
       "      <th>Expected Readmission Rate</th>\n",
       "      <th>Number of Readmissions</th>\n",
       "      <th>Start Date</th>\n",
       "      <th>End Date</th>\n",
       "    </tr>\n",
       "  </thead>\n",
       "  <tbody>\n",
       "    <tr>\n",
       "      <th>11078</th>\n",
       "      <td>TAMPA GENERAL HOSPITAL</td>\n",
       "      <td>100128</td>\n",
       "      <td>FL</td>\n",
       "      <td>READM-30-COPD-HRRP</td>\n",
       "      <td>276</td>\n",
       "      <td>NaN</td>\n",
       "      <td>0.9349</td>\n",
       "      <td>22.2</td>\n",
       "      <td>23.7</td>\n",
       "      <td>56.0</td>\n",
       "      <td>07/01/2010</td>\n",
       "      <td>06/30/2013</td>\n",
       "    </tr>\n",
       "    <tr>\n",
       "      <th>10445</th>\n",
       "      <td>BERGER HOSPITAL</td>\n",
       "      <td>360170</td>\n",
       "      <td>OH</td>\n",
       "      <td>READM-30-HF-HRRP</td>\n",
       "      <td>136</td>\n",
       "      <td>NaN</td>\n",
       "      <td>0.9471</td>\n",
       "      <td>25.3</td>\n",
       "      <td>26.7</td>\n",
       "      <td>31.0</td>\n",
       "      <td>07/01/2010</td>\n",
       "      <td>06/30/2013</td>\n",
       "    </tr>\n",
       "    <tr>\n",
       "      <th>10057</th>\n",
       "      <td>SPECTRUM HEALTH - BUTTERWORTH CAMPUS</td>\n",
       "      <td>230038</td>\n",
       "      <td>MI</td>\n",
       "      <td>READM-30-PN-HRRP</td>\n",
       "      <td>1120</td>\n",
       "      <td>NaN</td>\n",
       "      <td>0.9534</td>\n",
       "      <td>17.4</td>\n",
       "      <td>18.3</td>\n",
       "      <td>192.0</td>\n",
       "      <td>07/01/2010</td>\n",
       "      <td>06/30/2013</td>\n",
       "    </tr>\n",
       "    <tr>\n",
       "      <th>11331</th>\n",
       "      <td>IOWA LUTHERAN HOSPITAL</td>\n",
       "      <td>160024</td>\n",
       "      <td>IA</td>\n",
       "      <td>READM-30-COPD-HRRP</td>\n",
       "      <td>183</td>\n",
       "      <td>NaN</td>\n",
       "      <td>0.9296</td>\n",
       "      <td>15.3</td>\n",
       "      <td>16.5</td>\n",
       "      <td>23.0</td>\n",
       "      <td>07/01/2010</td>\n",
       "      <td>06/30/2013</td>\n",
       "    </tr>\n",
       "    <tr>\n",
       "      <th>2657</th>\n",
       "      <td>BARNES-JEWISH ST PETERS HOSPITAL</td>\n",
       "      <td>260191</td>\n",
       "      <td>MO</td>\n",
       "      <td>READM-30-COPD-HRRP</td>\n",
       "      <td>346</td>\n",
       "      <td>NaN</td>\n",
       "      <td>1.0686</td>\n",
       "      <td>23.1</td>\n",
       "      <td>21.6</td>\n",
       "      <td>85.0</td>\n",
       "      <td>07/01/2010</td>\n",
       "      <td>06/30/2013</td>\n",
       "    </tr>\n",
       "    <tr>\n",
       "      <th>5748</th>\n",
       "      <td>SOUTHERN REGIONAL MEDICAL CENTER</td>\n",
       "      <td>110165</td>\n",
       "      <td>GA</td>\n",
       "      <td>READM-30-PN-HRRP</td>\n",
       "      <td>169</td>\n",
       "      <td>NaN</td>\n",
       "      <td>1.0136</td>\n",
       "      <td>16.7</td>\n",
       "      <td>16.5</td>\n",
       "      <td>29.0</td>\n",
       "      <td>07/01/2010</td>\n",
       "      <td>06/30/2013</td>\n",
       "    </tr>\n",
       "    <tr>\n",
       "      <th>4959</th>\n",
       "      <td>MEMORIAL HOSPITAL OF RHODE ISLAND</td>\n",
       "      <td>410001</td>\n",
       "      <td>RI</td>\n",
       "      <td>READM-30-COPD-HRRP</td>\n",
       "      <td>217</td>\n",
       "      <td>NaN</td>\n",
       "      <td>1.0252</td>\n",
       "      <td>20.8</td>\n",
       "      <td>20.3</td>\n",
       "      <td>47.0</td>\n",
       "      <td>07/01/2010</td>\n",
       "      <td>06/30/2013</td>\n",
       "    </tr>\n",
       "    <tr>\n",
       "      <th>8206</th>\n",
       "      <td>BELLEVUE MEDICAL CENTER</td>\n",
       "      <td>280132</td>\n",
       "      <td>NE</td>\n",
       "      <td>READM-30-PN-HRRP</td>\n",
       "      <td>217</td>\n",
       "      <td>NaN</td>\n",
       "      <td>0.9795</td>\n",
       "      <td>16.2</td>\n",
       "      <td>16.6</td>\n",
       "      <td>34.0</td>\n",
       "      <td>07/01/2010</td>\n",
       "      <td>06/30/2013</td>\n",
       "    </tr>\n",
       "    <tr>\n",
       "      <th>4418</th>\n",
       "      <td>THE MEDICAL CENTER AT BOWLING GREEN</td>\n",
       "      <td>180013</td>\n",
       "      <td>KY</td>\n",
       "      <td>READM-30-PN-HRRP</td>\n",
       "      <td>818</td>\n",
       "      <td>NaN</td>\n",
       "      <td>1.0343</td>\n",
       "      <td>16.6</td>\n",
       "      <td>16.1</td>\n",
       "      <td>138.0</td>\n",
       "      <td>07/01/2010</td>\n",
       "      <td>06/30/2013</td>\n",
       "    </tr>\n",
       "    <tr>\n",
       "      <th>7981</th>\n",
       "      <td>CHRISTUS ST PATRICK HOSPITAL</td>\n",
       "      <td>190027</td>\n",
       "      <td>LA</td>\n",
       "      <td>READM-30-PN-HRRP</td>\n",
       "      <td>358</td>\n",
       "      <td>NaN</td>\n",
       "      <td>0.9824</td>\n",
       "      <td>17.9</td>\n",
       "      <td>18.2</td>\n",
       "      <td>63.0</td>\n",
       "      <td>07/01/2010</td>\n",
       "      <td>06/30/2013</td>\n",
       "    </tr>\n",
       "  </tbody>\n",
       "</table>\n",
       "</div>"
      ],
      "text/plain": [
       "                              Hospital Name  Provider Number State  \\\n",
       "11078                TAMPA GENERAL HOSPITAL           100128    FL   \n",
       "10445                       BERGER HOSPITAL           360170    OH   \n",
       "10057  SPECTRUM HEALTH - BUTTERWORTH CAMPUS           230038    MI   \n",
       "11331                IOWA LUTHERAN HOSPITAL           160024    IA   \n",
       "2657       BARNES-JEWISH ST PETERS HOSPITAL           260191    MO   \n",
       "5748       SOUTHERN REGIONAL MEDICAL CENTER           110165    GA   \n",
       "4959      MEMORIAL HOSPITAL OF RHODE ISLAND           410001    RI   \n",
       "8206                BELLEVUE MEDICAL CENTER           280132    NE   \n",
       "4418    THE MEDICAL CENTER AT BOWLING GREEN           180013    KY   \n",
       "7981           CHRISTUS ST PATRICK HOSPITAL           190027    LA   \n",
       "\n",
       "             Measure Name  Number of Discharges  Footnote  \\\n",
       "11078  READM-30-COPD-HRRP                   276       NaN   \n",
       "10445    READM-30-HF-HRRP                   136       NaN   \n",
       "10057    READM-30-PN-HRRP                  1120       NaN   \n",
       "11331  READM-30-COPD-HRRP                   183       NaN   \n",
       "2657   READM-30-COPD-HRRP                   346       NaN   \n",
       "5748     READM-30-PN-HRRP                   169       NaN   \n",
       "4959   READM-30-COPD-HRRP                   217       NaN   \n",
       "8206     READM-30-PN-HRRP                   217       NaN   \n",
       "4418     READM-30-PN-HRRP                   818       NaN   \n",
       "7981     READM-30-PN-HRRP                   358       NaN   \n",
       "\n",
       "       Excess Readmission Ratio  Predicted Readmission Rate  \\\n",
       "11078                    0.9349                        22.2   \n",
       "10445                    0.9471                        25.3   \n",
       "10057                    0.9534                        17.4   \n",
       "11331                    0.9296                        15.3   \n",
       "2657                     1.0686                        23.1   \n",
       "5748                     1.0136                        16.7   \n",
       "4959                     1.0252                        20.8   \n",
       "8206                     0.9795                        16.2   \n",
       "4418                     1.0343                        16.6   \n",
       "7981                     0.9824                        17.9   \n",
       "\n",
       "       Expected Readmission Rate  Number of Readmissions  Start Date  \\\n",
       "11078                       23.7                    56.0  07/01/2010   \n",
       "10445                       26.7                    31.0  07/01/2010   \n",
       "10057                       18.3                   192.0  07/01/2010   \n",
       "11331                       16.5                    23.0  07/01/2010   \n",
       "2657                        21.6                    85.0  07/01/2010   \n",
       "5748                        16.5                    29.0  07/01/2010   \n",
       "4959                        20.3                    47.0  07/01/2010   \n",
       "8206                        16.6                    34.0  07/01/2010   \n",
       "4418                        16.1                   138.0  07/01/2010   \n",
       "7981                        18.2                    63.0  07/01/2010   \n",
       "\n",
       "         End Date  \n",
       "11078  06/30/2013  \n",
       "10445  06/30/2013  \n",
       "10057  06/30/2013  \n",
       "11331  06/30/2013  \n",
       "2657   06/30/2013  \n",
       "5748   06/30/2013  \n",
       "4959   06/30/2013  \n",
       "8206   06/30/2013  \n",
       "4418   06/30/2013  \n",
       "7981   06/30/2013  "
      ]
     },
     "execution_count": 7,
     "metadata": {},
     "output_type": "execute_result"
    }
   ],
   "source": [
    "clean_hospital_read_df.sample(10)"
   ]
  },
  {
   "cell_type": "code",
   "execution_count": 8,
   "metadata": {},
   "outputs": [
    {
     "data": {
      "text/html": [
       "<div>\n",
       "<style scoped>\n",
       "    .dataframe tbody tr th:only-of-type {\n",
       "        vertical-align: middle;\n",
       "    }\n",
       "\n",
       "    .dataframe tbody tr th {\n",
       "        vertical-align: top;\n",
       "    }\n",
       "\n",
       "    .dataframe thead th {\n",
       "        text-align: right;\n",
       "    }\n",
       "</style>\n",
       "<table border=\"1\" class=\"dataframe\">\n",
       "  <thead>\n",
       "    <tr style=\"text-align: right;\">\n",
       "      <th></th>\n",
       "      <th>0</th>\n",
       "    </tr>\n",
       "  </thead>\n",
       "  <tbody>\n",
       "    <tr>\n",
       "      <th>Hospital Name</th>\n",
       "      <td>0</td>\n",
       "    </tr>\n",
       "    <tr>\n",
       "      <th>Provider Number</th>\n",
       "      <td>0</td>\n",
       "    </tr>\n",
       "    <tr>\n",
       "      <th>State</th>\n",
       "      <td>0</td>\n",
       "    </tr>\n",
       "    <tr>\n",
       "      <th>Measure Name</th>\n",
       "      <td>0</td>\n",
       "    </tr>\n",
       "    <tr>\n",
       "      <th>Number of Discharges</th>\n",
       "      <td>0</td>\n",
       "    </tr>\n",
       "    <tr>\n",
       "      <th>Footnote</th>\n",
       "      <td>11497</td>\n",
       "    </tr>\n",
       "    <tr>\n",
       "      <th>Excess Readmission Ratio</th>\n",
       "      <td>81</td>\n",
       "    </tr>\n",
       "    <tr>\n",
       "      <th>Predicted Readmission Rate</th>\n",
       "      <td>81</td>\n",
       "    </tr>\n",
       "    <tr>\n",
       "      <th>Expected Readmission Rate</th>\n",
       "      <td>81</td>\n",
       "    </tr>\n",
       "    <tr>\n",
       "      <th>Number of Readmissions</th>\n",
       "      <td>81</td>\n",
       "    </tr>\n",
       "    <tr>\n",
       "      <th>Start Date</th>\n",
       "      <td>0</td>\n",
       "    </tr>\n",
       "    <tr>\n",
       "      <th>End Date</th>\n",
       "      <td>0</td>\n",
       "    </tr>\n",
       "  </tbody>\n",
       "</table>\n",
       "</div>"
      ],
      "text/plain": [
       "                                0\n",
       "Hospital Name                   0\n",
       "Provider Number                 0\n",
       "State                           0\n",
       "Measure Name                    0\n",
       "Number of Discharges            0\n",
       "Footnote                    11497\n",
       "Excess Readmission Ratio       81\n",
       "Predicted Readmission Rate     81\n",
       "Expected Readmission Rate      81\n",
       "Number of Readmissions         81\n",
       "Start Date                      0\n",
       "End Date                        0"
      ]
     },
     "execution_count": 8,
     "metadata": {},
     "output_type": "execute_result"
    }
   ],
   "source": [
    "clean_hospital_read_df.isnull().sum().to_frame()"
   ]
  },
  {
   "cell_type": "markdown",
   "metadata": {},
   "source": [
    "They did not even clean out all the null values for readmission variables!"
   ]
  },
  {
   "cell_type": "code",
   "execution_count": 9,
   "metadata": {},
   "outputs": [],
   "source": [
    "clean_hospital_read_df.dropna(subset=['Excess Readmission Ratio'], inplace=True)"
   ]
  },
  {
   "cell_type": "code",
   "execution_count": 10,
   "metadata": {},
   "outputs": [
    {
     "data": {
      "text/html": [
       "<div>\n",
       "<style scoped>\n",
       "    .dataframe tbody tr th:only-of-type {\n",
       "        vertical-align: middle;\n",
       "    }\n",
       "\n",
       "    .dataframe tbody tr th {\n",
       "        vertical-align: top;\n",
       "    }\n",
       "\n",
       "    .dataframe thead th {\n",
       "        text-align: right;\n",
       "    }\n",
       "</style>\n",
       "<table border=\"1\" class=\"dataframe\">\n",
       "  <thead>\n",
       "    <tr style=\"text-align: right;\">\n",
       "      <th></th>\n",
       "      <th>0</th>\n",
       "    </tr>\n",
       "  </thead>\n",
       "  <tbody>\n",
       "    <tr>\n",
       "      <th>Hospital Name</th>\n",
       "      <td>0</td>\n",
       "    </tr>\n",
       "    <tr>\n",
       "      <th>Provider Number</th>\n",
       "      <td>0</td>\n",
       "    </tr>\n",
       "    <tr>\n",
       "      <th>State</th>\n",
       "      <td>0</td>\n",
       "    </tr>\n",
       "    <tr>\n",
       "      <th>Measure Name</th>\n",
       "      <td>0</td>\n",
       "    </tr>\n",
       "    <tr>\n",
       "      <th>Number of Discharges</th>\n",
       "      <td>0</td>\n",
       "    </tr>\n",
       "    <tr>\n",
       "      <th>Footnote</th>\n",
       "      <td>11497</td>\n",
       "    </tr>\n",
       "    <tr>\n",
       "      <th>Excess Readmission Ratio</th>\n",
       "      <td>0</td>\n",
       "    </tr>\n",
       "    <tr>\n",
       "      <th>Predicted Readmission Rate</th>\n",
       "      <td>0</td>\n",
       "    </tr>\n",
       "    <tr>\n",
       "      <th>Expected Readmission Rate</th>\n",
       "      <td>0</td>\n",
       "    </tr>\n",
       "    <tr>\n",
       "      <th>Number of Readmissions</th>\n",
       "      <td>0</td>\n",
       "    </tr>\n",
       "    <tr>\n",
       "      <th>Start Date</th>\n",
       "      <td>0</td>\n",
       "    </tr>\n",
       "    <tr>\n",
       "      <th>End Date</th>\n",
       "      <td>0</td>\n",
       "    </tr>\n",
       "  </tbody>\n",
       "</table>\n",
       "</div>"
      ],
      "text/plain": [
       "                                0\n",
       "Hospital Name                   0\n",
       "Provider Number                 0\n",
       "State                           0\n",
       "Measure Name                    0\n",
       "Number of Discharges            0\n",
       "Footnote                    11497\n",
       "Excess Readmission Ratio        0\n",
       "Predicted Readmission Rate      0\n",
       "Expected Readmission Rate       0\n",
       "Number of Readmissions          0\n",
       "Start Date                      0\n",
       "End Date                        0"
      ]
     },
     "execution_count": 10,
     "metadata": {},
     "output_type": "execute_result"
    }
   ],
   "source": [
    "clean_hospital_read_df.isnull().sum().to_frame()"
   ]
  },
  {
   "cell_type": "markdown",
   "metadata": {},
   "source": [
    "### Hypothesis Testing"
   ]
  },
  {
   "cell_type": "markdown",
   "metadata": {},
   "source": [
    "We will do a hypothesis test to test the significance between the mean excess readmissions ratio of hospitals with < 100 discharges and that of hospitals with > 1000 discharges. We will use a z test.\n",
    "\n",
    "**Null Hypothesis**: u1 == u2\n",
    "\n",
    "There is no significant difference.\n",
    "\n",
    "**Alternative Hypothesis**: u1 != u2\n",
    "\n",
    "There is a significant difference."
   ]
  },
  {
   "cell_type": "code",
   "execution_count": 11,
   "metadata": {},
   "outputs": [],
   "source": [
    "#small hospitals < 100\n",
    "small = clean_hospital_read_df[clean_hospital_read_df['Number of Discharges'] < 100]\n",
    "#large hosptials > 1000\n",
    "large = clean_hospital_read_df[clean_hospital_read_df['Number of Discharges'] > 1000]\n",
    "\n",
    "err_small = small['Excess Readmission Ratio']\n",
    "err_large = large['Excess Readmission Ratio']"
   ]
  },
  {
   "cell_type": "code",
   "execution_count": 12,
   "metadata": {},
   "outputs": [
    {
     "name": "stdout",
     "output_type": "stream",
     "text": [
      "T stat:  10.060620398500793\n",
      "P-value:  8.247694433231281e-24\n"
     ]
    }
   ],
   "source": [
    "#z test\n",
    "from statsmodels.stats.weightstats import ztest\n",
    "tstat, pval = ztest(err_small, err_large)\n",
    "print(\"T stat: \", tstat)\n",
    "print(\"P-value: \", pval)"
   ]
  },
  {
   "cell_type": "markdown",
   "metadata": {},
   "source": [
    "With p-value < 0.01, we reject the null hyptothesis. There is a significant difference between the mean excess readmissions ratio of hospitals with < 100 discharges and that of hospitals with > 1000 discharges. "
   ]
  },
  {
   "cell_type": "markdown",
   "metadata": {},
   "source": [
    "### Discussing statistical significance and practical significance."
   ]
  },
  {
   "cell_type": "markdown",
   "metadata": {},
   "source": [
    "This is an example where statistical significance does not lead to practical significance. Obviously there is going to be a statistical significance when comparing hospitals with < 100 discharges  with hospitals with > 1000 discharges. These are significantly different numbers of discharges. This analysis doesn't bring much insight into "
   ]
  },
  {
   "cell_type": "markdown",
   "metadata": {},
   "source": [
    "### What is the relationship between number of discharges and excess readmissions ratio?"
   ]
  },
  {
   "cell_type": "code",
   "execution_count": 13,
   "metadata": {},
   "outputs": [
    {
     "name": "stdout",
     "output_type": "stream",
     "text": [
      "count    11497.000000\n",
      "mean       365.466209\n",
      "std        308.754590\n",
      "min         25.000000\n",
      "25%        160.000000\n",
      "50%        282.000000\n",
      "75%        474.000000\n",
      "max       6793.000000\n",
      "Name: Number of Discharges, dtype: float64\n",
      "\n",
      "count    11497.000000\n",
      "mean         1.007504\n",
      "std          0.091964\n",
      "min          0.549500\n",
      "25%          0.952600\n",
      "50%          1.003500\n",
      "75%          1.058100\n",
      "max          1.909500\n",
      "Name: Excess Readmission Ratio, dtype: float64\n"
     ]
    }
   ],
   "source": [
    "print(clean_hospital_read_df['Number of Discharges'].describe())\n",
    "print()\n",
    "print(clean_hospital_read_df['Excess Readmission Ratio'].describe())"
   ]
  },
  {
   "cell_type": "code",
   "execution_count": 14,
   "metadata": {},
   "outputs": [
    {
     "data": {
      "image/png": "[encoded data removed]",
      "text/plain": [
       "<Figure size 432x288 with 1 Axes>"
      ]
     },
     "metadata": {},
     "output_type": "display_data"
    }
   ],
   "source": [
    "#histogram\n",
    "plt.hist(clean_hospital_read_df['Number of Discharges'], bins=20)\n",
    "plt.title('Number of Discharges Distribution')\n",
    "plt.xlabel('Number of Discharges')\n",
    "plt.ylabel('Count')\n",
    "plt.show()"
   ]
  },
  {
   "cell_type": "code",
   "execution_count": 15,
   "metadata": {},
   "outputs": [
    {
     "data": {
      "image/png": "[encoded data removed]",
      "text/plain": [
       "<Figure size 432x288 with 1 Axes>"
      ]
     },
     "metadata": {},
     "output_type": "display_data"
    }
   ],
   "source": [
    "#histogram\n",
    "plt.hist(clean_hospital_read_df['Excess Readmission Ratio'], bins=20)\n",
    "plt.title('Excess Readmission Ratio Distribution')\n",
    "plt.xlabel('Excess Readmission Ratio')\n",
    "plt.ylabel('Count')\n",
    "plt.show()"
   ]
  },
  {
   "cell_type": "markdown",
   "metadata": {},
   "source": [
    "Number of Discharges distribution is skewed right. Excess Readmission Ratio distribution is normal."
   ]
  },
  {
   "cell_type": "code",
   "execution_count": 16,
   "metadata": {},
   "outputs": [
    {
     "name": "stdout",
     "output_type": "stream",
     "text": [
      "Correlation Coefficient, p-value:  (-0.09739794351079353, 1.222547377680967e-25)\n"
     ]
    }
   ],
   "source": [
    "#pearson r\n",
    "nod = clean_hospital_read_df['Number of Discharges']\n",
    "err = clean_hospital_read_df['Excess Readmission Ratio']\n",
    "pearson = stats.pearsonr(nod, err)\n",
    "print('Correlation Coefficient, p-value: ', pearson)"
   ]
  },
  {
   "cell_type": "markdown",
   "metadata": {},
   "source": [
    "Receiving a correlation coefficient of -0.0984, there is a very slight nevative relationship between number of discharges and excess readmission ratio. But it is very close to 0. However, the very small p value indicates that there is a significant relationship here."
   ]
  },
  {
   "cell_type": "code",
   "execution_count": 17,
   "metadata": {},
   "outputs": [
    {
     "name": "stdout",
     "output_type": "stream",
     "text": [
      "Slope:  -2.901051733057071e-05\n",
      "Intercept:  1.0181061473733573\n"
     ]
    },
    {
     "data": {
      "image/png": "[encoded data removed]",
      "text/plain": [
       "<Figure size 432x288 with 1 Axes>"
      ]
     },
     "metadata": {},
     "output_type": "display_data"
    }
   ],
   "source": [
    "#linear regression\n",
    "a, b = np.polyfit(nod, err, 1)\n",
    "\n",
    "print('Slope: ', a)\n",
    "print('Intercept: ', b)\n",
    "\n",
    "#theoretical line\n",
    "x1 = np.array([0,11497])\n",
    "y1 = a * x1 + b\n",
    "\n",
    "_ = plt.plot(nod, err, marker='.', linestyle='none')\n",
    "_ = plt.plot(x1, y1)\n",
    "plt.xlabel('Number of Discharges')\n",
    "plt.ylabel('Excess Readmission Rate')\n",
    "plt.show()\n"
   ]
  },
  {
   "cell_type": "markdown",
   "metadata": {},
   "source": [
    "Although it already seems like there is a slightly negative relationship between these two variables, we now have a numeric number.\n",
    "\n",
    "For every patient a hospital discharges, the excess readmission rate goes down by 2.901e-05. This is a very small number, and looking at the graph the variance is obviously very high. So practically, this doesn't tell us too much more about the relationship.\n"
   ]
  }
 ],
 "metadata": {
  "anaconda-cloud": {},
  "kernelspec": {
   "display_name": "Python 3",
   "language": "python",
   "name": "python3"
  },
  "language_info": {
   "codemirror_mode": {
    "name": "ipython",
    "version": 3
   },
   "file_extension": ".py",
   "mimetype": "text/x-python",
   "name": "python",
   "nbconvert_exporter": "python",
   "pygments_lexer": "ipython3",
   "version": "3.6.5"
  }
 },
 "nbformat": 4,
 "nbformat_minor": 1
}
